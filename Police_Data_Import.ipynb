{
 "cells": [
  {
   "cell_type": "markdown",
   "id": "f0818fee",
   "metadata": {},
   "source": [
    "# Importing Police Crime Data"
   ]
  },
  {
   "cell_type": "markdown",
   "id": "42842eb0",
   "metadata": {},
   "source": [
    "Import libraries"
   ]
  },
  {
   "cell_type": "code",
   "execution_count": 1,
   "id": "f398548a",
   "metadata": {},
   "outputs": [],
   "source": [
    "from urllib.request import urlretrieve\n",
    "import pandas as pd\n",
    "import matplotlib.pyplot as plt\n",
    "import os"
   ]
  },
  {
   "cell_type": "markdown",
   "id": "c5b5eb29",
   "metadata": {},
   "source": [
    "Copy the link to the download file to scrape the data straight off the web."
   ]
  },
  {
   "cell_type": "code",
   "execution_count": 2,
   "id": "4b8193a1",
   "metadata": {},
   "outputs": [
    {
     "data": {
      "text/html": [
       "<div>\n",
       "<style scoped>\n",
       "    .dataframe tbody tr th:only-of-type {\n",
       "        vertical-align: middle;\n",
       "    }\n",
       "\n",
       "    .dataframe tbody tr th {\n",
       "        vertical-align: top;\n",
       "    }\n",
       "\n",
       "    .dataframe thead th {\n",
       "        text-align: right;\n",
       "    }\n",
       "</style>\n",
       "<table border=\"1\" class=\"dataframe\">\n",
       "  <thead>\n",
       "    <tr style=\"text-align: right;\">\n",
       "      <th></th>\n",
       "      <th>Crime ID</th>\n",
       "      <th>Month</th>\n",
       "      <th>Reported by</th>\n",
       "      <th>Falls within</th>\n",
       "      <th>Longitude</th>\n",
       "      <th>Latitude</th>\n",
       "      <th>Location</th>\n",
       "      <th>LSOA code</th>\n",
       "      <th>LSOA name</th>\n",
       "      <th>Crime type</th>\n",
       "      <th>Last outcome category</th>\n",
       "      <th>Context</th>\n",
       "    </tr>\n",
       "  </thead>\n",
       "  <tbody>\n",
       "    <tr>\n",
       "      <th>0</th>\n",
       "      <td>aa9d008371c86371ad07a7ee37aa0bbc18988fad9c839f...</td>\n",
       "      <td>2025-03</td>\n",
       "      <td>Metropolitan Police Service</td>\n",
       "      <td>Metropolitan Police Service</td>\n",
       "      <td>0.841300</td>\n",
       "      <td>51.134961</td>\n",
       "      <td>On or near Lodge Close</td>\n",
       "      <td>E01024017</td>\n",
       "      <td>Ashford 007E</td>\n",
       "      <td>Violence and sexual offences</td>\n",
       "      <td>Under investigation</td>\n",
       "      <td>NaN</td>\n",
       "    </tr>\n",
       "    <tr>\n",
       "      <th>1</th>\n",
       "      <td>NaN</td>\n",
       "      <td>2025-03</td>\n",
       "      <td>Metropolitan Police Service</td>\n",
       "      <td>Metropolitan Police Service</td>\n",
       "      <td>0.134947</td>\n",
       "      <td>51.588063</td>\n",
       "      <td>On or near Mead Grove</td>\n",
       "      <td>E01000027</td>\n",
       "      <td>Barking and Dagenham 001A</td>\n",
       "      <td>Anti-social behaviour</td>\n",
       "      <td>NaN</td>\n",
       "      <td>NaN</td>\n",
       "    </tr>\n",
       "    <tr>\n",
       "      <th>2</th>\n",
       "      <td>NaN</td>\n",
       "      <td>2025-03</td>\n",
       "      <td>Metropolitan Police Service</td>\n",
       "      <td>Metropolitan Police Service</td>\n",
       "      <td>0.140194</td>\n",
       "      <td>51.582356</td>\n",
       "      <td>On or near Hatch Grove</td>\n",
       "      <td>E01000027</td>\n",
       "      <td>Barking and Dagenham 001A</td>\n",
       "      <td>Anti-social behaviour</td>\n",
       "      <td>NaN</td>\n",
       "      <td>NaN</td>\n",
       "    </tr>\n",
       "    <tr>\n",
       "      <th>3</th>\n",
       "      <td>88a2f14d227afd35b185e72ffddf624ce3390ce73ad627...</td>\n",
       "      <td>2025-03</td>\n",
       "      <td>Metropolitan Police Service</td>\n",
       "      <td>Metropolitan Police Service</td>\n",
       "      <td>0.145722</td>\n",
       "      <td>51.594296</td>\n",
       "      <td>On or near Providence Place</td>\n",
       "      <td>E01000027</td>\n",
       "      <td>Barking and Dagenham 001A</td>\n",
       "      <td>Burglary</td>\n",
       "      <td>Under investigation</td>\n",
       "      <td>NaN</td>\n",
       "    </tr>\n",
       "    <tr>\n",
       "      <th>4</th>\n",
       "      <td>92b195e28c4e5eaf7534d163af1e0e33e81c7de4d8bf54...</td>\n",
       "      <td>2025-03</td>\n",
       "      <td>Metropolitan Police Service</td>\n",
       "      <td>Metropolitan Police Service</td>\n",
       "      <td>0.138830</td>\n",
       "      <td>51.583433</td>\n",
       "      <td>On or near Thatches Grove</td>\n",
       "      <td>E01000027</td>\n",
       "      <td>Barking and Dagenham 001A</td>\n",
       "      <td>Criminal damage and arson</td>\n",
       "      <td>Unable to prosecute suspect</td>\n",
       "      <td>NaN</td>\n",
       "    </tr>\n",
       "  </tbody>\n",
       "</table>\n",
       "</div>"
      ],
      "text/plain": [
       "                                            Crime ID    Month  \\\n",
       "0  aa9d008371c86371ad07a7ee37aa0bbc18988fad9c839f...  2025-03   \n",
       "1                                                NaN  2025-03   \n",
       "2                                                NaN  2025-03   \n",
       "3  88a2f14d227afd35b185e72ffddf624ce3390ce73ad627...  2025-03   \n",
       "4  92b195e28c4e5eaf7534d163af1e0e33e81c7de4d8bf54...  2025-03   \n",
       "\n",
       "                   Reported by                 Falls within  Longitude  \\\n",
       "0  Metropolitan Police Service  Metropolitan Police Service   0.841300   \n",
       "1  Metropolitan Police Service  Metropolitan Police Service   0.134947   \n",
       "2  Metropolitan Police Service  Metropolitan Police Service   0.140194   \n",
       "3  Metropolitan Police Service  Metropolitan Police Service   0.145722   \n",
       "4  Metropolitan Police Service  Metropolitan Police Service   0.138830   \n",
       "\n",
       "    Latitude                     Location  LSOA code  \\\n",
       "0  51.134961       On or near Lodge Close  E01024017   \n",
       "1  51.588063        On or near Mead Grove  E01000027   \n",
       "2  51.582356       On or near Hatch Grove  E01000027   \n",
       "3  51.594296  On or near Providence Place  E01000027   \n",
       "4  51.583433    On or near Thatches Grove  E01000027   \n",
       "\n",
       "                   LSOA name                    Crime type  \\\n",
       "0               Ashford 007E  Violence and sexual offences   \n",
       "1  Barking and Dagenham 001A         Anti-social behaviour   \n",
       "2  Barking and Dagenham 001A         Anti-social behaviour   \n",
       "3  Barking and Dagenham 001A                      Burglary   \n",
       "4  Barking and Dagenham 001A     Criminal damage and arson   \n",
       "\n",
       "         Last outcome category  Context  \n",
       "0          Under investigation      NaN  \n",
       "1                          NaN      NaN  \n",
       "2                          NaN      NaN  \n",
       "3          Under investigation      NaN  \n",
       "4  Unable to prosecute suspect      NaN  "
      ]
     },
     "execution_count": 2,
     "metadata": {},
     "output_type": "execute_result"
    }
   ],
   "source": [
    "police_df = pd.read_csv('https://policeuk-data.s3.amazonaws.com/download/f289fd6e4c78f154bfee8c59b48737f47eb975b3.zip')\n",
    "police_df.head()"
   ]
  },
  {
   "cell_type": "markdown",
   "id": "eae85217",
   "metadata": {},
   "source": [
    "Create a new dataframe which only contains longitude, latittude and the crime type"
   ]
  },
  {
   "cell_type": "code",
   "execution_count": 6,
   "id": "c633d0b8",
   "metadata": {},
   "outputs": [
    {
     "data": {
      "text/html": [
       "<div>\n",
       "<style scoped>\n",
       "    .dataframe tbody tr th:only-of-type {\n",
       "        vertical-align: middle;\n",
       "    }\n",
       "\n",
       "    .dataframe tbody tr th {\n",
       "        vertical-align: top;\n",
       "    }\n",
       "\n",
       "    .dataframe thead th {\n",
       "        text-align: right;\n",
       "    }\n",
       "</style>\n",
       "<table border=\"1\" class=\"dataframe\">\n",
       "  <thead>\n",
       "    <tr style=\"text-align: right;\">\n",
       "      <th></th>\n",
       "      <th>Longitude</th>\n",
       "      <th>Latitude</th>\n",
       "      <th>Crime type</th>\n",
       "    </tr>\n",
       "  </thead>\n",
       "  <tbody>\n",
       "    <tr>\n",
       "      <th>0</th>\n",
       "      <td>0.841300</td>\n",
       "      <td>51.134961</td>\n",
       "      <td>Violence and sexual offences</td>\n",
       "    </tr>\n",
       "    <tr>\n",
       "      <th>1</th>\n",
       "      <td>0.134947</td>\n",
       "      <td>51.588063</td>\n",
       "      <td>Anti-social behaviour</td>\n",
       "    </tr>\n",
       "    <tr>\n",
       "      <th>2</th>\n",
       "      <td>0.140194</td>\n",
       "      <td>51.582356</td>\n",
       "      <td>Anti-social behaviour</td>\n",
       "    </tr>\n",
       "    <tr>\n",
       "      <th>3</th>\n",
       "      <td>0.145722</td>\n",
       "      <td>51.594296</td>\n",
       "      <td>Burglary</td>\n",
       "    </tr>\n",
       "    <tr>\n",
       "      <th>4</th>\n",
       "      <td>0.138830</td>\n",
       "      <td>51.583433</td>\n",
       "      <td>Criminal damage and arson</td>\n",
       "    </tr>\n",
       "  </tbody>\n",
       "</table>\n",
       "</div>"
      ],
      "text/plain": [
       "   Longitude   Latitude                    Crime type\n",
       "0   0.841300  51.134961  Violence and sexual offences\n",
       "1   0.134947  51.588063         Anti-social behaviour\n",
       "2   0.140194  51.582356         Anti-social behaviour\n",
       "3   0.145722  51.594296                      Burglary\n",
       "4   0.138830  51.583433     Criminal damage and arson"
      ]
     },
     "execution_count": 6,
     "metadata": {},
     "output_type": "execute_result"
    }
   ],
   "source": [
    "cleaned_police_df = police_df[['Longitude',\t'Latitude', 'Crime type']].copy() # select specific columns and copy the original df into a new df\n",
    "cleaned_police_df.head()"
   ]
  },
  {
   "cell_type": "code",
   "execution_count": 12,
   "id": "9b2fc934",
   "metadata": {},
   "outputs": [
    {
     "name": "stdout",
     "output_type": "stream",
     "text": [
      "The row count is: 93571\n"
     ]
    }
   ],
   "source": [
    "# Row count\n",
    "count_row = cleaned_police_df.shape[0] #[0] counts the number of rows, [1] counts the number of columns\n",
    "print(\"The row count is:\", count_row)"
   ]
  },
  {
   "cell_type": "code",
   "execution_count": null,
   "id": "a34b62bd",
   "metadata": {},
   "outputs": [],
   "source": []
  }
 ],
 "metadata": {
  "kernelspec": {
   "display_name": "Python 3",
   "language": "python",
   "name": "python3"
  },
  "language_info": {
   "codemirror_mode": {
    "name": "ipython",
    "version": 3
   },
   "file_extension": ".py",
   "mimetype": "text/x-python",
   "name": "python",
   "nbconvert_exporter": "python",
   "pygments_lexer": "ipython3",
   "version": "3.13.2"
  }
 },
 "nbformat": 4,
 "nbformat_minor": 5
}
